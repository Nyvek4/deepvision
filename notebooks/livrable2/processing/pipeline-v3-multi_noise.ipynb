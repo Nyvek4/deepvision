{
 "cells": [
  {
   "cell_type": "code",
   "execution_count": null,
   "id": "a7cef09e",
   "metadata": {},
   "outputs": [],
   "source": [
    "# Import des bibliothèques\n",
    "import numpy as np\n",
    "from typing import List, Tuple, Dict, Union\n",
    "import matplotlib.pyplot as plt\n",
    "import tensorflow as tf\n",
    "import keras\n",
    "\n",
    "import os\n",
    "## Remettre la ligne pour utiliser le backend Jax et tester si ca marche de nouveau\n",
    "os.environ[\"KERAS_BACKEND\"] = \"jax\"\n",
    "os.environ[\"TF_CPP_MIN_LOG_LEVEL\"] = \"2\"  # Suppression des avertissements de TensorFlow\n",
    "from keras import layers\n",
    "from keras.models import Model\n",
    "from huggingface_hub import from_pretrained_keras\n",
    "import cv2\n",
    "from PIL import Image\n",
    "import glob\n",
    "from tqdm.notebook import tqdm\n",
    "import random\n",
    "from sklearn.model_selection import train_test_split\n",
    "import time\n",
    "from skimage.metrics import structural_similarity\n",
    "import shutil\n",
    "from pathlib import Path\n",
    "from keras.applications import VGG19\n",
    "from keras.models import Model\n",
    "from keras import backend as K\n",
    "import tensorflow as tf\n",
    "\n",
    "\n",
    "print(\"Versions des bibliothèques:\")\n",
    "print(f\"TensorFlow: {tf.__version__}\")\n",
    "print(f\"Keras: {keras.__version__}\")\n"
   ]
  },
  {
   "cell_type": "code",
   "execution_count": null,
   "id": "54cd2a3b",
   "metadata": {},
   "outputs": [],
   "source": [
    "# %% [code]\n",
    "# Chemins\n",
    "BASE_DIR = Path('/mnt/wsl/preprocessed_dataset')  # Point d’entrée\n",
    "SOURCE_DATASETS = [Path('/mnt/wsl/source_dataset1'), Path('/mnt/wsl/source_dataset2')]  # Ajoute autant que tu veux\n",
    "\n",
    "# Paramètres\n",
    "IMAGE_SIZE = 256\n",
    "SAVE_NOISY = True  # True = mode statique (noisy/clean sur disque), False = mode dynamique\n",
    "BRUIT_TYPE = 'mixed'  # 'gaussian', 'blur', 'jpeg', 'salt_pepper', 'mixed'\n",
    "BRUIT_LEVEL = 0.3  # intensité (utilisé pour sigma, ratio, etc.)\n",
    "\n",
    "# Répertoire de sortie\n",
    "CLEAN_DIR = BASE_DIR / 'clean'\n",
    "NOISY_DIR = BASE_DIR / 'noisy'"
   ]
  }
 ],
 "metadata": {
  "language_info": {
   "name": "python"
  }
 },
 "nbformat": 4,
 "nbformat_minor": 5
}
